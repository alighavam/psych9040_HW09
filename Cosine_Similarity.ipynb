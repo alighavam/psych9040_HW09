{
 "cells": [
  {
   "cell_type": "code",
   "execution_count": 12,
   "metadata": {},
   "outputs": [
    {
     "name": "stdout",
     "output_type": "stream",
     "text": [
      "numpy function: cos(theta) = 0.9682458369552488\n",
      "naive python: cos(theta) = 0.9682458369552498\n",
      "\n",
      "Comparing execution time...\n",
      "Exec Time Numpy Ver. = 1.2656\n",
      "Exec Time Naive Ver. = 4.9344\n",
      "\n",
      "Numpy is 3.90 times faster than naive python implementation.\n"
     ]
    }
   ],
   "source": [
    "import numpy as np\n",
    "from math import sqrt\n",
    "import timeit\n",
    "\n",
    "def cosine_similarity(a, b):\n",
    "    return np.dot(a, b) / (np.linalg.norm(a) * np.linalg.norm(b))\n",
    "\n",
    "def cosine_similarity_naive(a, b):\n",
    "    dot_product = 0\n",
    "    a_squared = 0\n",
    "    b_squared = 0\n",
    "    for i in range(len(a)):\n",
    "        dot_product += a[i] * b[i]\n",
    "        a_squared += a[i] ** 2\n",
    "        b_squared += b[i] ** 2\n",
    "    \n",
    "    return dot_product / (sqrt(a_squared) * sqrt(b_squared))\n",
    "\n",
    "\n",
    "def main():\n",
    "    # vectors with 10000 elements\n",
    "    N = 10000\n",
    "    a = [i for i in range(1, N+1)]\n",
    "    b = [i**2 for i in range(1, N+1)]\n",
    "\n",
    "    # find cosine angle between a and b using both functions:\n",
    "    print(f'numpy function: cos(theta) = {cosine_similarity(a, b)}')\n",
    "    print(f'naive python: cos(theta) = {cosine_similarity_naive(a, b)}')\n",
    "\n",
    "    print('\\nComparing execution time...')\n",
    "    t1 = timeit.timeit('cosine_similarity(a, b)', globals=globals(), number=1000)\n",
    "    t2 = timeit.timeit('cosine_similarity_naive(a, b)', globals=globals(), number=1000)\n",
    "    print(f'Exec Time Numpy Ver. = {t1:.4f}')\n",
    "    print(f'Exec Time Naive Ver. = {t2:.4f}')\n",
    "\n",
    "    print(f'\\nNumpy is {t2/t1:.2f} times faster than naive python implementation.')\n",
    "\n",
    "main()\n",
    "\n"
   ]
  }
 ],
 "metadata": {
  "kernelspec": {
   "display_name": "Python 3",
   "language": "python",
   "name": "python3"
  },
  "language_info": {
   "codemirror_mode": {
    "name": "ipython",
    "version": 3
   },
   "file_extension": ".py",
   "mimetype": "text/x-python",
   "name": "python",
   "nbconvert_exporter": "python",
   "pygments_lexer": "ipython3",
   "version": "3.9.6"
  }
 },
 "nbformat": 4,
 "nbformat_minor": 2
}
